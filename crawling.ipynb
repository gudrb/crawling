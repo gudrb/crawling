{
 "cells": [
  {
   "cell_type": "code",
   "execution_count": 36,
   "metadata": {},
   "outputs": [],
   "source": [
    "import requests\n",
    "from bs4 import BeautifulSoup\n",
    "import json\n",
    "\n",
    "\n",
    "class Crawler:\n",
    "    def __init__(self):\n",
    "        self.url = 'https://www.google.co.kr/search'\n",
    "        self.keyword = 'q='\n",
    "        self.datatype = 'tbm=isch'\n",
    "        self.header = 'Mozilla/5.0 (Windows NT 10.0; Win64; x64) AppleWebKit/537.36 (KHTML, like Gecko) Chrome/67.0.3396.99 Safari/537.36'\n",
    "\n",
    "    def search(self, keyword_):\n",
    "        urlAll = self.url + '?' + self.keyword + keyword_ + '&' + self.datatype\n",
    "        response = requests.get(urlAll, headers={'user-agent': self.header})\n",
    "        soup = BeautifulSoup(response.text, 'html.parser')\n",
    "        self.soupResult = soup.findAll('div', {'class': 'rg_meta notranslate'})\n",
    "        self.keyword_ = keyword_\n",
    "\n",
    "    def printimg(self):\n",
    "        for i in range(100):\n",
    "            # link, type = json.loads(self.soupResult[i].text)['ou'], json.loads(self.soupResult[i].text)['ity']\n",
    "            link, type = json.loads(self.soupResult[0].text)['ou'], json.loads(self.soupResult[0].text)['ity']\n",
    "            # print(self.soupResult[0])\n",
    "            # print(link+\" : \"+type)\n",
    "            fileinstance = open(self.keyword_ + str(i), 'wb')\n",
    "            # print(fileinstance)\n",
    "            img_response=requests.get(link)\n",
    "            fileinstance.write(img_response.content)\n",
    "\n",
    "\n",
    "crawler = Crawler()\n",
    "crawler.search('마카롱')\n",
    "crawler.printimg()"
   ]
  },
  {
   "cell_type": "code",
   "execution_count": null,
   "metadata": {},
   "outputs": [],
   "source": []
  }
 ],
 "metadata": {
  "kernelspec": {
   "display_name": "Python 3",
   "language": "python",
   "name": "python3"
  },
  "language_info": {
   "codemirror_mode": {
    "name": "ipython",
    "version": 3
   },
   "file_extension": ".py",
   "mimetype": "text/x-python",
   "name": "python",
   "nbconvert_exporter": "python",
   "pygments_lexer": "ipython3",
   "version": "3.6.4"
  }
 },
 "nbformat": 4,
 "nbformat_minor": 2
}
