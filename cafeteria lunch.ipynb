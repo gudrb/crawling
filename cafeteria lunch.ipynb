{
 "cells": [
  {
   "cell_type": "code",
   "execution_count": null,
   "metadata": {},
   "outputs": [],
   "source": [
    "import requests\n",
    "import re\n",
    "from urllib.request import Request, urlopen\n",
    "from bs4 import BeautifulSoup\n",
    "html=urlopen('https://dgucoop.dongguk.edu/store/store.php?w=4&l=2')\n",
    "source=html.read()\n",
    "html.close()\n",
    "\n",
    "soup=BeautifulSoup(source,'lxml')\n",
    "table_div=soup.find(id=\"sdetail\")\n",
    "tables=table_div.find_all(\"table\")\n",
    "menu_table=tables[1]\n",
    "trs=menu_table.find_all('tr')\n",
    "'''\n",
    "print(trs[2])\n",
    "print(trs[4])\n",
    "print(trs[7])\n",
    "print(trs[9])\n",
    "print(trs[11])\n",
    "print(trs[13])\n",
    "print(trs[24])\n",
    "print(trs[26])\n",
    "'''\n",
    "'''\n",
    "trss=trs[2].find_all('td')\n",
    "#print(trss[7])\n",
    "exp=r'.*'\n",
    "rex=re.search(exp,str(trss[7]))\n",
    "for i in rex:\n",
    "    print(i)\n",
    "'''\n",
    "\n",
    "places=[2,4,9,10,12,14,26,28]\n",
    "day=str(input('요일입력:'))\n",
    "for i in places:\n",
    "    tds=trs[i].find_all('td')\n",
    "    if day=='월':\n",
    "        print(tds[3].span)\n",
    "    elif day=='화':\n",
    "        print(tds[4].span)\n",
    "    elif day == '수':\n",
    "        print(tds[5].span)\n",
    "    elif day == '목':\n",
    "        print(tds[6].span)\n",
    "    elif day == '금':\n",
    "        print(tds[7].span)\n",
    "    else:\n",
    "        print(tds[8].span)\n",
    "\n"
   ]
  }
 ],
 "metadata": {
  "kernelspec": {
   "display_name": "Python 3",
   "language": "python",
   "name": "python3"
  },
  "language_info": {
   "codemirror_mode": {
    "name": "ipython",
    "version": 3
   },
   "file_extension": ".py",
   "mimetype": "text/x-python",
   "name": "python",
   "nbconvert_exporter": "python",
   "pygments_lexer": "ipython3",
   "version": "3.6.5"
  }
 },
 "nbformat": 4,
 "nbformat_minor": 2
}
